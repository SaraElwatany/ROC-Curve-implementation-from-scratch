{
  "cells": [
    {
      "cell_type": "markdown",
      "metadata": {
        "id": "7kcnf_kRhLp9"
      },
      "source": [
        "## Import Libraries"
      ]
    },
    {
      "cell_type": "code",
      "execution_count": 18,
      "metadata": {
        "id": "V5hHelwNdzG3"
      },
      "outputs": [],
      "source": [
        "# Importing the libraries\n",
        "from sklearn.metrics import accuracy_score, classification_report\n",
        "from sklearn.model_selection import train_test_split\n",
        "from sklearn.linear_model import LogisticRegression\n",
        "from sklearn.datasets import load_iris\n",
        "import matplotlib.pyplot as plt\n",
        "from numpy import trapz\n",
        "import pandas as pd\n",
        "import numpy as np\n",
        "%matplotlib inline"
      ]
    },
    {
      "cell_type": "markdown",
      "metadata": {
        "id": "mq7cUFO3hSc8"
      },
      "source": [
        "## Loading the Dataset"
      ]
    },
    {
      "cell_type": "code",
      "execution_count": 19,
      "metadata": {
        "colab": {
          "base_uri": "https://localhost:8080/",
          "height": 275
        },
        "id": "eG2G90j_Yp58",
        "outputId": "a39b6b6f-11a2-48c8-d080-31da7b00d489"
      },
      "outputs": [
        {
          "name": "stdout",
          "output_type": "stream",
          "text": [
            "Unique classes:  [0 1 2]\n",
            "['setosa' 'versicolor' 'virginica']\n",
            "<class 'numpy.ndarray'>\n",
            "(150,)\n"
          ]
        },
        {
          "data": {
            "text/html": [
              "\n",
              "  <div id=\"df-a24ba269-8fcd-4676-88c1-0932c6cb6ef3\" class=\"colab-df-container\">\n",
              "    <div>\n",
              "<style scoped>\n",
              "    .dataframe tbody tr th:only-of-type {\n",
              "        vertical-align: middle;\n",
              "    }\n",
              "\n",
              "    .dataframe tbody tr th {\n",
              "        vertical-align: top;\n",
              "    }\n",
              "\n",
              "    .dataframe thead th {\n",
              "        text-align: right;\n",
              "    }\n",
              "</style>\n",
              "<table border=\"1\" class=\"dataframe\">\n",
              "  <thead>\n",
              "    <tr style=\"text-align: right;\">\n",
              "      <th></th>\n",
              "      <th>sepal length (cm)</th>\n",
              "      <th>sepal width (cm)</th>\n",
              "      <th>petal length (cm)</th>\n",
              "      <th>petal width (cm)</th>\n",
              "    </tr>\n",
              "  </thead>\n",
              "  <tbody>\n",
              "    <tr>\n",
              "      <th>0</th>\n",
              "      <td>5.1</td>\n",
              "      <td>3.5</td>\n",
              "      <td>1.4</td>\n",
              "      <td>0.2</td>\n",
              "    </tr>\n",
              "    <tr>\n",
              "      <th>1</th>\n",
              "      <td>4.9</td>\n",
              "      <td>3.0</td>\n",
              "      <td>1.4</td>\n",
              "      <td>0.2</td>\n",
              "    </tr>\n",
              "    <tr>\n",
              "      <th>2</th>\n",
              "      <td>4.7</td>\n",
              "      <td>3.2</td>\n",
              "      <td>1.3</td>\n",
              "      <td>0.2</td>\n",
              "    </tr>\n",
              "    <tr>\n",
              "      <th>3</th>\n",
              "      <td>4.6</td>\n",
              "      <td>3.1</td>\n",
              "      <td>1.5</td>\n",
              "      <td>0.2</td>\n",
              "    </tr>\n",
              "    <tr>\n",
              "      <th>4</th>\n",
              "      <td>5.0</td>\n",
              "      <td>3.6</td>\n",
              "      <td>1.4</td>\n",
              "      <td>0.2</td>\n",
              "    </tr>\n",
              "  </tbody>\n",
              "</table>\n",
              "</div>\n",
              "    <div class=\"colab-df-buttons\">\n",
              "\n",
              "  <div class=\"colab-df-container\">\n",
              "    <button class=\"colab-df-convert\" onclick=\"convertToInteractive('df-a24ba269-8fcd-4676-88c1-0932c6cb6ef3')\"\n",
              "            title=\"Convert this dataframe to an interactive table.\"\n",
              "            style=\"display:none;\">\n",
              "\n",
              "  <svg xmlns=\"http://www.w3.org/2000/svg\" height=\"24px\" viewBox=\"0 -960 960 960\">\n",
              "    <path d=\"M120-120v-720h720v720H120Zm60-500h600v-160H180v160Zm220 220h160v-160H400v160Zm0 220h160v-160H400v160ZM180-400h160v-160H180v160Zm440 0h160v-160H620v160ZM180-180h160v-160H180v160Zm440 0h160v-160H620v160Z\"/>\n",
              "  </svg>\n",
              "    </button>\n",
              "\n",
              "  <style>\n",
              "    .colab-df-container {\n",
              "      display:flex;\n",
              "      gap: 12px;\n",
              "    }\n",
              "\n",
              "    .colab-df-convert {\n",
              "      background-color: #E8F0FE;\n",
              "      border: none;\n",
              "      border-radius: 50%;\n",
              "      cursor: pointer;\n",
              "      display: none;\n",
              "      fill: #1967D2;\n",
              "      height: 32px;\n",
              "      padding: 0 0 0 0;\n",
              "      width: 32px;\n",
              "    }\n",
              "\n",
              "    .colab-df-convert:hover {\n",
              "      background-color: #E2EBFA;\n",
              "      box-shadow: 0px 1px 2px rgba(60, 64, 67, 0.3), 0px 1px 3px 1px rgba(60, 64, 67, 0.15);\n",
              "      fill: #174EA6;\n",
              "    }\n",
              "\n",
              "    .colab-df-buttons div {\n",
              "      margin-bottom: 4px;\n",
              "    }\n",
              "\n",
              "    [theme=dark] .colab-df-convert {\n",
              "      background-color: #3B4455;\n",
              "      fill: #D2E3FC;\n",
              "    }\n",
              "\n",
              "    [theme=dark] .colab-df-convert:hover {\n",
              "      background-color: #434B5C;\n",
              "      box-shadow: 0px 1px 3px 1px rgba(0, 0, 0, 0.15);\n",
              "      filter: drop-shadow(0px 1px 2px rgba(0, 0, 0, 0.3));\n",
              "      fill: #FFFFFF;\n",
              "    }\n",
              "  </style>\n",
              "\n",
              "    <script>\n",
              "      const buttonEl =\n",
              "        document.querySelector('#df-a24ba269-8fcd-4676-88c1-0932c6cb6ef3 button.colab-df-convert');\n",
              "      buttonEl.style.display =\n",
              "        google.colab.kernel.accessAllowed ? 'block' : 'none';\n",
              "\n",
              "      async function convertToInteractive(key) {\n",
              "        const element = document.querySelector('#df-a24ba269-8fcd-4676-88c1-0932c6cb6ef3');\n",
              "        const dataTable =\n",
              "          await google.colab.kernel.invokeFunction('convertToInteractive',\n",
              "                                                    [key], {});\n",
              "        if (!dataTable) return;\n",
              "\n",
              "        const docLinkHtml = 'Like what you see? Visit the ' +\n",
              "          '<a target=\"_blank\" href=https://colab.research.google.com/notebooks/data_table.ipynb>data table notebook</a>'\n",
              "          + ' to learn more about interactive tables.';\n",
              "        element.innerHTML = '';\n",
              "        dataTable['output_type'] = 'display_data';\n",
              "        await google.colab.output.renderOutput(dataTable, element);\n",
              "        const docLink = document.createElement('div');\n",
              "        docLink.innerHTML = docLinkHtml;\n",
              "        element.appendChild(docLink);\n",
              "      }\n",
              "    </script>\n",
              "  </div>\n",
              "\n",
              "\n",
              "<div id=\"df-e30febc2-b247-4a96-9d77-a6da09d15934\">\n",
              "  <button class=\"colab-df-quickchart\" onclick=\"quickchart('df-e30febc2-b247-4a96-9d77-a6da09d15934')\"\n",
              "            title=\"Suggest charts.\"\n",
              "            style=\"display:none;\">\n",
              "\n",
              "<svg xmlns=\"http://www.w3.org/2000/svg\" height=\"24px\"viewBox=\"0 0 24 24\"\n",
              "     width=\"24px\">\n",
              "    <g>\n",
              "        <path d=\"M19 3H5c-1.1 0-2 .9-2 2v14c0 1.1.9 2 2 2h14c1.1 0 2-.9 2-2V5c0-1.1-.9-2-2-2zM9 17H7v-7h2v7zm4 0h-2V7h2v10zm4 0h-2v-4h2v4z\"/>\n",
              "    </g>\n",
              "</svg>\n",
              "  </button>\n",
              "\n",
              "<style>\n",
              "  .colab-df-quickchart {\n",
              "      --bg-color: #E8F0FE;\n",
              "      --fill-color: #1967D2;\n",
              "      --hover-bg-color: #E2EBFA;\n",
              "      --hover-fill-color: #174EA6;\n",
              "      --disabled-fill-color: #AAA;\n",
              "      --disabled-bg-color: #DDD;\n",
              "  }\n",
              "\n",
              "  [theme=dark] .colab-df-quickchart {\n",
              "      --bg-color: #3B4455;\n",
              "      --fill-color: #D2E3FC;\n",
              "      --hover-bg-color: #434B5C;\n",
              "      --hover-fill-color: #FFFFFF;\n",
              "      --disabled-bg-color: #3B4455;\n",
              "      --disabled-fill-color: #666;\n",
              "  }\n",
              "\n",
              "  .colab-df-quickchart {\n",
              "    background-color: var(--bg-color);\n",
              "    border: none;\n",
              "    border-radius: 50%;\n",
              "    cursor: pointer;\n",
              "    display: none;\n",
              "    fill: var(--fill-color);\n",
              "    height: 32px;\n",
              "    padding: 0;\n",
              "    width: 32px;\n",
              "  }\n",
              "\n",
              "  .colab-df-quickchart:hover {\n",
              "    background-color: var(--hover-bg-color);\n",
              "    box-shadow: 0 1px 2px rgba(60, 64, 67, 0.3), 0 1px 3px 1px rgba(60, 64, 67, 0.15);\n",
              "    fill: var(--button-hover-fill-color);\n",
              "  }\n",
              "\n",
              "  .colab-df-quickchart-complete:disabled,\n",
              "  .colab-df-quickchart-complete:disabled:hover {\n",
              "    background-color: var(--disabled-bg-color);\n",
              "    fill: var(--disabled-fill-color);\n",
              "    box-shadow: none;\n",
              "  }\n",
              "\n",
              "  .colab-df-spinner {\n",
              "    border: 2px solid var(--fill-color);\n",
              "    border-color: transparent;\n",
              "    border-bottom-color: var(--fill-color);\n",
              "    animation:\n",
              "      spin 1s steps(1) infinite;\n",
              "  }\n",
              "\n",
              "  @keyframes spin {\n",
              "    0% {\n",
              "      border-color: transparent;\n",
              "      border-bottom-color: var(--fill-color);\n",
              "      border-left-color: var(--fill-color);\n",
              "    }\n",
              "    20% {\n",
              "      border-color: transparent;\n",
              "      border-left-color: var(--fill-color);\n",
              "      border-top-color: var(--fill-color);\n",
              "    }\n",
              "    30% {\n",
              "      border-color: transparent;\n",
              "      border-left-color: var(--fill-color);\n",
              "      border-top-color: var(--fill-color);\n",
              "      border-right-color: var(--fill-color);\n",
              "    }\n",
              "    40% {\n",
              "      border-color: transparent;\n",
              "      border-right-color: var(--fill-color);\n",
              "      border-top-color: var(--fill-color);\n",
              "    }\n",
              "    60% {\n",
              "      border-color: transparent;\n",
              "      border-right-color: var(--fill-color);\n",
              "    }\n",
              "    80% {\n",
              "      border-color: transparent;\n",
              "      border-right-color: var(--fill-color);\n",
              "      border-bottom-color: var(--fill-color);\n",
              "    }\n",
              "    90% {\n",
              "      border-color: transparent;\n",
              "      border-bottom-color: var(--fill-color);\n",
              "    }\n",
              "  }\n",
              "</style>\n",
              "\n",
              "  <script>\n",
              "    async function quickchart(key) {\n",
              "      const quickchartButtonEl =\n",
              "        document.querySelector('#' + key + ' button');\n",
              "      quickchartButtonEl.disabled = true;  // To prevent multiple clicks.\n",
              "      quickchartButtonEl.classList.add('colab-df-spinner');\n",
              "      try {\n",
              "        const charts = await google.colab.kernel.invokeFunction(\n",
              "            'suggestCharts', [key], {});\n",
              "      } catch (error) {\n",
              "        console.error('Error during call to suggestCharts:', error);\n",
              "      }\n",
              "      quickchartButtonEl.classList.remove('colab-df-spinner');\n",
              "      quickchartButtonEl.classList.add('colab-df-quickchart-complete');\n",
              "    }\n",
              "    (() => {\n",
              "      let quickchartButtonEl =\n",
              "        document.querySelector('#df-e30febc2-b247-4a96-9d77-a6da09d15934 button');\n",
              "      quickchartButtonEl.style.display =\n",
              "        google.colab.kernel.accessAllowed ? 'block' : 'none';\n",
              "    })();\n",
              "  </script>\n",
              "</div>\n",
              "    </div>\n",
              "  </div>\n"
            ],
            "text/plain": [
              "   sepal length (cm)  sepal width (cm)  petal length (cm)  petal width (cm)\n",
              "0                5.1               3.5                1.4               0.2\n",
              "1                4.9               3.0                1.4               0.2\n",
              "2                4.7               3.2                1.3               0.2\n",
              "3                4.6               3.1                1.5               0.2\n",
              "4                5.0               3.6                1.4               0.2"
            ]
          },
          "execution_count": 19,
          "metadata": {},
          "output_type": "execute_result"
        }
      ],
      "source": [
        "# Loading The Dataset\n",
        "iris = load_iris()\n",
        "X, y = iris.data, iris.target\n",
        "\n",
        "# Create a dataframe from the iris dataset\n",
        "df = pd.DataFrame(data= X, columns= iris.feature_names)\n",
        "\n",
        "# Get unique classes\n",
        "targets = np.unique(y)\n",
        "print(\"Unique classes: \", targets)\n",
        "print(iris.target_names)\n",
        "\n",
        "print(type(y))\n",
        "print(y.shape)  # shape of the targets\n",
        "df.head()     # Take a look at the dataset"
      ]
    },
    {
      "cell_type": "markdown",
      "metadata": {
        "id": "Epo1gf46hZjr"
      },
      "source": [
        "## Create the Model"
      ]
    },
    {
      "cell_type": "code",
      "execution_count": 20,
      "metadata": {
        "colab": {
          "base_uri": "https://localhost:8080/"
        },
        "id": "8K2xh4h4LmC2",
        "outputId": "d84d90c5-1a5f-41f0-87a9-79486a48e4d1"
      },
      "outputs": [
        {
          "name": "stdout",
          "output_type": "stream",
          "text": [
            "Accuracy: 0.8962962962962963\n",
            "Classification report:\n",
            "               precision    recall  f1-score   support\n",
            "\n",
            "           0       1.00      1.00      1.00        48\n",
            "           1       1.00      0.68      0.81        44\n",
            "           2       0.75      1.00      0.86        43\n",
            "\n",
            "    accuracy                           0.90       135\n",
            "   macro avg       0.92      0.89      0.89       135\n",
            "weighted avg       0.92      0.90      0.89       135\n",
            "\n"
          ]
        }
      ],
      "source": [
        "# Split the dataset into training(10%) and testing sets(90%)\n",
        "X_train, X_test, y_train, y_test = train_test_split(X, y, test_size=0.9, random_state=42)\n",
        "\n",
        "# Create a logistic regression model\n",
        "model = LogisticRegression(multi_class='ovr')\n",
        "# Train the model\n",
        "model.fit(X_train, y_train)\n",
        "# Make predictions on the test set (by getting the probabilities for each of the targets)\n",
        "y_pred = model.predict_proba(X_test)\n",
        "#print(y_pred)\n",
        "\n",
        "\n",
        "\n",
        "y_predicted_labels = model.predict(X_test)    # Convert probabilities to predicted labels\n",
        "accuracy = accuracy_score(y_test, y_predicted_labels)     # Calculate the accuracy of the model\n",
        "classification_report = classification_report(y_test, y_predicted_labels)   # Generate the classification report\n",
        "\n",
        "# Print the results\n",
        "print('Accuracy:', accuracy)\n",
        "print('Classification report:\\n', classification_report)"
      ]
    },
    {
      "cell_type": "markdown",
      "metadata": {
        "id": "Gisy39ymhhcU"
      },
      "source": [
        "## Function to return the negative class"
      ]
    },
    {
      "cell_type": "code",
      "execution_count": 21,
      "metadata": {
        "id": "p6tGpQcmdCNG"
      },
      "outputs": [],
      "source": [
        "def return_negative_class(negative_targets, expected_target):\n",
        "\n",
        "  # Loop through all negative targets\n",
        "  for target in negative_targets:\n",
        "    if(expected_target == target):\n",
        "      # Return the expected negative target, otherwise return None\n",
        "      return expected_target\n",
        "\n",
        "  return None"
      ]
    },
    {
      "cell_type": "markdown",
      "metadata": {
        "id": "ytFIvmYHhogp"
      },
      "source": [
        "## Confusion Matrix"
      ]
    },
    {
      "cell_type": "code",
      "execution_count": 22,
      "metadata": {
        "id": "L4cCXfLdeGmD"
      },
      "outputs": [],
      "source": [
        "# Function to get the confusion matrix for each class\n",
        "def confusion_metrics(y_expected, y_predict, threshold, targeted_class, targets):\n",
        "\n",
        "    true_pos, true_neg = 0.0 , 0.0\n",
        "    false_pos, false_neg = 0.0 , 0.0\n",
        "\n",
        "    # Exclude the targeted value from the targets array\n",
        "    negative_targets= np.delete(targets, targeted_class)\n",
        "\n",
        "    for i in range(len(y_predict)):\n",
        "\n",
        "        if(np.max(y_predict[i]) >= threshold):\n",
        "            if(y_expected[i] == targeted_class):\n",
        "                true_pos += 1\n",
        "            else:\n",
        "                false_pos += 1\n",
        "        elif(np.max(y_predict[i]) < threshold):\n",
        "            if(y_expected[i] == return_negative_class(negative_targets, y_expected[i])):\n",
        "                true_neg += 1\n",
        "            else:\n",
        "                false_neg += 1\n",
        "\n",
        "    # We find the True positive rate and False positive rate based on the given threshold\n",
        "    tpr = true_pos / (true_pos + false_neg)\n",
        "    fpr = false_pos / (true_neg + false_pos)\n",
        "\n",
        "    return fpr, tpr"
      ]
    },
    {
      "cell_type": "code",
      "execution_count": 23,
      "metadata": {
        "colab": {
          "base_uri": "https://localhost:8080/"
        },
        "id": "Jgoo27JVeJ3G",
        "outputId": "8b5d1346-26bf-4a97-c3d6-c975b590904a"
      },
      "outputs": [
        {
          "name": "stdout",
          "output_type": "stream",
          "text": [
            "0.9176470588235294 1.0\n"
          ]
        }
      ],
      "source": [
        "fpr, tpr = confusion_metrics(y, y_pred, 0.5, 1, targets)\n",
        "print(fpr , tpr)"
      ]
    },
    {
      "cell_type": "markdown",
      "metadata": {
        "id": "3oN39mGsjv50"
      },
      "source": [
        "## Plot the Roc and get the AUC"
      ]
    },
    {
      "cell_type": "code",
      "execution_count": 24,
      "metadata": {
        "colab": {
          "base_uri": "https://localhost:8080/",
          "height": 472
        },
        "id": "lAcFLyx8eMP7",
        "outputId": "fbe1658a-a021-4738-d406-192c0a1c094b"
      },
      "outputs": [
        {
          "data": {
            "image/png": "[encoded data removed]",
            "text/plain": [
              "<Figure size 640x480 with 1 Axes>"
            ]
          },
          "metadata": {},
          "output_type": "display_data"
        }
      ],
      "source": [
        "# Now we calculate FPR and TPR for different thresholds and get ROC and AUC(Area Under The Curve)\n",
        "for target in targets:\n",
        "  fpr_array = []\n",
        "  tpr_array = []\n",
        "  thresholds = np.linspace(0, 1, 1000)\n",
        "\n",
        "  # Get predictions against each threshold per each class\n",
        "  for threshold in thresholds:\n",
        "      fpr , tpr = confusion_metrics(y, y_pred, threshold, target, targets)\n",
        "      fpr_array.append(fpr)\n",
        "      tpr_array.append(tpr)\n",
        "\n",
        "  # Use Trapezoidal rule to calculate the area under the curve and approximating the intergral\n",
        "  auc = np.trapz(np.array(tpr_array),np.array(fpr_array)) + 1\n",
        "  plt.plot(fpr_array, tpr_array, label='ROC curve (area = %0.2f) for class %s' % (auc, iris.target_names[target]))\n",
        "\n",
        "\n",
        "  #print(f\"false positive rate: {fpr_array} , True positive rate: {tpr_array}\")\n",
        "  #print(thresholds)\n",
        "\n",
        "\n",
        "plt.plot([0, 1], [0, 1], 'k-', lw=2)\n",
        "plt.xlim([0.0, 1.0])\n",
        "plt.ylim([0.0, 1.05])\n",
        "plt.legend(loc=\"lower right\")\n",
        "plt.ylabel('True Positive Rate (sensitivity)')\n",
        "plt.xlabel('False Positive Rate (1-specificity)')\n",
        "plt.title('Receiver Operating Characteristic for multi-class')\n",
        "plt.show()"
      ]
    },
    {
      "cell_type": "code",
      "execution_count": null,
      "metadata": {},
      "outputs": [],
      "source": [
        "# For each epoch get the true positive and the false positive rates at different thresholds\n",
        "'''for threshold in np.linspace(0, 1, 20):\n",
        "\n",
        "        for pred_label, true_label, prob in zip(preds, labels.data, max_prob):\n",
        "\n",
        "            if class_names[pred_label] == 'malignant' and class_names[true_label] == 'malignant':\n",
        "\n",
        "                if prob >= threshold:\n",
        "                    tp +=1\n",
        "                else:\n",
        "                    fn += 1\n",
        "\n",
        "            elif class_names[pred_label] == 'malignant' and class_names[true_label] == 'benign':\n",
        "                \n",
        "                if prob >= threshold:\n",
        "                    fp +=1\n",
        "                else:\n",
        "                    tn += 1\n",
        "\n",
        "            elif class_names[pred_label] == 'benign' and class_names[true_label] == 'benign':\n",
        "\n",
        "                if prob >= threshold:\n",
        "                    tn +=1\n",
        "                else:\n",
        "                    fp += 1\n",
        "\n",
        "            elif class_names[pred_label] == 'benign' and class_names[true_label] == 'malignant':\n",
        "\n",
        "                if prob >= threshold:\n",
        "                    fn +=1\n",
        "                else:\n",
        "                    tp += 1\n",
        "\n",
        "        tpr = tp / (tp + fn)\n",
        "        fpr = fp / (tn + fp)\n",
        "\n",
        "        fpr_array.append(fpr)\n",
        "        tpr_array.append(tpr) \n",
        "\n",
        "''' "
      ]
    }
  ],
  "metadata": {
    "colab": {
      "provenance": []
    },
    "kernelspec": {
      "display_name": "Python 3",
      "name": "python3"
    },
    "language_info": {
      "name": "python"
    }
  },
  "nbformat": 4,
  "nbformat_minor": 0
}
